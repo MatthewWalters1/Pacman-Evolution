{
 "cells": [
  {
   "cell_type": "code",
   "execution_count": 1,
   "id": "371416c8",
   "metadata": {},
   "outputs": [],
   "source": [
    "import pandas as pd\n",
    "import numpy as np\n",
    "import matplotlib.pyplot as plt\n",
    "\n",
    "info = pd.read_csv(\"data.csv\")"
   ]
  },
  {
   "cell_type": "code",
   "execution_count": 27,
   "id": "8c10cdc3",
   "metadata": {
    "scrolled": false
   },
   "outputs": [
    {
     "name": "stdout",
     "output_type": "stream",
     "text": [
      "0\n",
      "0\n",
      "0\n",
      "0\n",
      "0\n"
     ]
    }
   ],
   "source": [
    "# using the info dataFrame, pull each combination of hyperparameters,\n",
    "#     for each, subtract the best fitness of pacman in stage 3 from the best fitness of pacman in stage 1, \n",
    "#      and average those sums over the number of tests\n",
    "\n",
    "# whichever has the highest average improvement will be considered optimal\n",
    "\n",
    "# we should check to make sure the one that improves the most \n",
    "#  isn't just starting off the worst and getting to a still bad sum\n",
    "\n",
    "popSizes = [50, 100, 150, 200, 500]\n",
    "cProbs = [0.001, 0.005, 0.01, 0.05, 0.1, 0.5, 1.]\n",
    "mProbs = [0.001, 0.005, 0.01, 0.05, 0.1, 0.5, 1.]\n",
    "numGenerations = [2, 10, 15, 25, 50, 75, 100]\n",
    "\n",
    "popSize = 50\n",
    "probCrossover = 0.001\n",
    "probMutate = 0.001\n",
    "numGens = 2\n",
    "\n",
    "bestps = 0\n",
    "bestcp = 0\n",
    "bestmp = 0\n",
    "bestng = 0\n",
    "\n",
    "bestImprov = 0\n",
    "improvements = []\n",
    "\n",
    "for popSize in popSizes:\n",
    "    for probCrossover in cProbs:\n",
    "        for probMutate in mProbs:\n",
    "            for numGens in numGenerations:\n",
    "                x = info[info[\"popSize\"] == popSize]\n",
    "                x = x[x[\"probCrossover\"] == probCrossover]\n",
    "                x = x[x[\"probMutate\"] == probMutate]\n",
    "                x = x[x[\"numGens\"] == numGens]\n",
    "                s1 = x[x[\"Stage\"] == 1.]\n",
    "                s3 = x[x[\"Stage\"] == 3.]\n",
    "                avgs = []\n",
    "                top = np.array(s1[\"Best_Fitness\"])\n",
    "                bottom = np.array(s3[\"Best_Fitness\"])\n",
    "                for i in range(len(top)):\n",
    "                    avgs.append(top[i] - bottom[i])\n",
    "                    #print(\"top:\", top[i], \"  bottom:\", bottom[i], \"  diff:\", top[i] - bottom[i])\n",
    "                avg = np.mean(avgs)\n",
    "                #print(avg)\n",
    "                if avg > bestImprov:\n",
    "                    bestImprov = avg\n",
    "                    bestps = popSize\n",
    "                    bestcp = probCrossover\n",
    "                    bestmp = probMutate\n",
    "                    bestng = numGens\n",
    "                improvements.append(avg)\n",
    "print(bestImprov)\n",
    "print(bestps)\n",
    "print(bestcp)\n",
    "print(bestmp)\n",
    "print(bestng)"
   ]
  },
  {
   "cell_type": "code",
   "execution_count": null,
   "id": "4f8eeb8b",
   "metadata": {},
   "outputs": [],
   "source": []
  }
 ],
 "metadata": {
  "kernelspec": {
   "display_name": "Python 3 (ipykernel)",
   "language": "python",
   "name": "python3"
  },
  "language_info": {
   "codemirror_mode": {
    "name": "ipython",
    "version": 3
   },
   "file_extension": ".py",
   "mimetype": "text/x-python",
   "name": "python",
   "nbconvert_exporter": "python",
   "pygments_lexer": "ipython3",
   "version": "3.9.12"
  }
 },
 "nbformat": 4,
 "nbformat_minor": 5
}
