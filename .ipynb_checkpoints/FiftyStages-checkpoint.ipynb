{
 "cells": [
  {
   "cell_type": "code",
   "execution_count": 1,
   "id": "2237cf5f",
   "metadata": {},
   "outputs": [
    {
     "name": "stdout",
     "output_type": "stream",
     "text": [
      "       Team  Generation  Best_Fitness  Avg_Fitness  Epoch  Test\n",
      "0         0           0           166      369.082      0     0\n",
      "1         0           1           153      274.914      0     0\n",
      "2         0           2           151      269.736      0     0\n",
      "3         0           3           151      252.358      0     0\n",
      "4         0           4           149      245.738      0     0\n",
      "...     ...         ...           ...          ...    ...   ...\n",
      "24995     1          45            28      214.368     49     4\n",
      "24996     1          46            33      218.112     49     4\n",
      "24997     1          47            28      216.452     49     4\n",
      "24998     1          48            28      242.920     49     4\n",
      "24999     1          49            23      226.088     49     4\n",
      "\n",
      "[25000 rows x 6 columns]\n"
     ]
    }
   ],
   "source": [
    "import pandas as pd\n",
    "import matplotlib.pyplot as plt\n",
    "import numpy as np\n",
    "\n",
    "info = pd.read_csv(\"hundredEpochs.csv\")\n",
    "print(info)"
   ]
  },
  {
   "cell_type": "code",
   "execution_count": 2,
   "id": "b1c450a0",
   "metadata": {},
   "outputs": [
    {
     "name": "stdout",
     "output_type": "stream",
     "text": [
      "       Team  Generation  Best_Fitness  Avg_Fitness  Epoch  Test\n",
      "0         0           0           166      369.082      0     0\n",
      "1         0           1           153      274.914      0     0\n",
      "2         0           2           151      269.736      0     0\n",
      "3         0           3           151      252.358      0     0\n",
      "4         0           4           149      245.738      0     0\n",
      "...     ...         ...           ...          ...    ...   ...\n",
      "24945     0          45           105      300.136     49     4\n",
      "24946     0          46           105      285.898     49     4\n",
      "24947     0          47           105      304.380     49     4\n",
      "24948     0          48           105      299.456     49     4\n",
      "24949     0          49           105      292.644     49     4\n",
      "\n",
      "[12500 rows x 6 columns]\n"
     ]
    }
   ],
   "source": [
    "pacman = info[info[\"Team\"] == 0]\n",
    "print(pacman)"
   ]
  }
 ],
 "metadata": {
  "kernelspec": {
   "display_name": "Python 3 (ipykernel)",
   "language": "python",
   "name": "python3"
  },
  "language_info": {
   "codemirror_mode": {
    "name": "ipython",
    "version": 3
   },
   "file_extension": ".py",
   "mimetype": "text/x-python",
   "name": "python",
   "nbconvert_exporter": "python",
   "pygments_lexer": "ipython3",
   "version": "3.9.12"
  }
 },
 "nbformat": 4,
 "nbformat_minor": 5
}
